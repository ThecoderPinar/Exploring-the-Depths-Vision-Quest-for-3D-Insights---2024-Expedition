{
  "metadata": {
    "kernelspec": {
      "language": "python",
      "display_name": "Python 3",
      "name": "python3"
    },
    "language_info": {
      "name": "python",
      "version": "3.10.13",
      "mimetype": "text/x-python",
      "codemirror_mode": {
        "name": "ipython",
        "version": 3
      },
      "pygments_lexer": "ipython3",
      "nbconvert_exporter": "python",
      "file_extension": ".py"
    },
    "kaggle": {
      "accelerator": "none",
      "dataSources": [
        {
          "sourceId": 71885,
          "databundleVersionId": 8069805,
          "sourceType": "competition"
        }
      ],
      "dockerImageVersionId": 30673,
      "isInternetEnabled": true,
      "language": "python",
      "sourceType": "notebook",
      "isGpuEnabled": false
    },
    "colab": {
      "name": "Exploring the Depths: 3D Vision Quest 2024 🚀🔍",
      "provenance": []
    }
  },
  "nbformat_minor": 0,
  "nbformat": 4,
  "cells": [
    {
      "source": [
        "\n",
        "# IMPORTANT: RUN THIS CELL IN ORDER TO IMPORT YOUR KAGGLE DATA SOURCES\n",
        "# TO THE CORRECT LOCATION (/kaggle/input) IN YOUR NOTEBOOK,\n",
        "# THEN FEEL FREE TO DELETE THIS CELL.\n",
        "# NOTE: THIS NOTEBOOK ENVIRONMENT DIFFERS FROM KAGGLE'S PYTHON\n",
        "# ENVIRONMENT SO THERE MAY BE MISSING LIBRARIES USED BY YOUR\n",
        "# NOTEBOOK.\n",
        "\n",
        "import os\n",
        "import sys\n",
        "from tempfile import NamedTemporaryFile\n",
        "from urllib.request import urlopen\n",
        "from urllib.parse import unquote, urlparse\n",
        "from urllib.error import HTTPError\n",
        "from zipfile import ZipFile\n",
        "import tarfile\n",
        "import shutil\n",
        "\n",
        "CHUNK_SIZE = 40960\n",
        "DATA_SOURCE_MAPPING = 'image-matching-challenge-2024:https%3A%2F%2Fstorage.googleapis.com%2Fkaggle-competitions-data%2Fkaggle-v2%2F71885%2F8069805%2Fbundle%2Farchive.zip%3FX-Goog-Algorithm%3DGOOG4-RSA-SHA256%26X-Goog-Credential%3Dgcp-kaggle-com%2540kaggle-161607.iam.gserviceaccount.com%252F20240328%252Fauto%252Fstorage%252Fgoog4_request%26X-Goog-Date%3D20240328T180900Z%26X-Goog-Expires%3D259200%26X-Goog-SignedHeaders%3Dhost%26X-Goog-Signature%3D5c8d10397c7ab2110803fbcfebffd453301fb163b7e2fed2d2f5711adcf381a86770f676b68f18aca1d44a5183241418b0a68c9c2d8fb8a6dcdbcc10a157ed2f05b92e4170ae7e26ed87e91693251b1b9f79f65fc63f3c6f2e6ae77b46f923ca07361492e6ffad52a0273f97e868d83d657689adff86eb9758803b62dedd77e0e73b3ca44e69c83946fc3fde18c10b6b27358f399afffa56dea58732a7b1c9750c8969b297f3619205fa7c3f0e6ca0cbc9b05d8bbd21fc51ef8b4d3257a4338e8dd2fc60855efa6166c5aa2158d96a4e966c6e65957b7c480b4f5973faa5503904820fb340a3f756b2ba17ef900c06e3d9ebea92a5db0d19e28c808168c03d1a'\n",
        "\n",
        "KAGGLE_INPUT_PATH='/kaggle/input'\n",
        "KAGGLE_WORKING_PATH='/kaggle/working'\n",
        "KAGGLE_SYMLINK='kaggle'\n",
        "\n",
        "!umount /kaggle/input/ 2> /dev/null\n",
        "shutil.rmtree('/kaggle/input', ignore_errors=True)\n",
        "os.makedirs(KAGGLE_INPUT_PATH, 0o777, exist_ok=True)\n",
        "os.makedirs(KAGGLE_WORKING_PATH, 0o777, exist_ok=True)\n",
        "\n",
        "try:\n",
        "  os.symlink(KAGGLE_INPUT_PATH, os.path.join(\"..\", 'input'), target_is_directory=True)\n",
        "except FileExistsError:\n",
        "  pass\n",
        "try:\n",
        "  os.symlink(KAGGLE_WORKING_PATH, os.path.join(\"..\", 'working'), target_is_directory=True)\n",
        "except FileExistsError:\n",
        "  pass\n",
        "\n",
        "for data_source_mapping in DATA_SOURCE_MAPPING.split(','):\n",
        "    directory, download_url_encoded = data_source_mapping.split(':')\n",
        "    download_url = unquote(download_url_encoded)\n",
        "    filename = urlparse(download_url).path\n",
        "    destination_path = os.path.join(KAGGLE_INPUT_PATH, directory)\n",
        "    try:\n",
        "        with urlopen(download_url) as fileres, NamedTemporaryFile() as tfile:\n",
        "            total_length = fileres.headers['content-length']\n",
        "            print(f'Downloading {directory}, {total_length} bytes compressed')\n",
        "            dl = 0\n",
        "            data = fileres.read(CHUNK_SIZE)\n",
        "            while len(data) > 0:\n",
        "                dl += len(data)\n",
        "                tfile.write(data)\n",
        "                done = int(50 * dl / int(total_length))\n",
        "                sys.stdout.write(f\"\\r[{'=' * done}{' ' * (50-done)}] {dl} bytes downloaded\")\n",
        "                sys.stdout.flush()\n",
        "                data = fileres.read(CHUNK_SIZE)\n",
        "            if filename.endswith('.zip'):\n",
        "              with ZipFile(tfile) as zfile:\n",
        "                zfile.extractall(destination_path)\n",
        "            else:\n",
        "              with tarfile.open(tfile.name) as tarfile:\n",
        "                tarfile.extractall(destination_path)\n",
        "            print(f'\\nDownloaded and uncompressed: {directory}')\n",
        "    except HTTPError as e:\n",
        "        print(f'Failed to load (likely expired) {download_url} to path {destination_path}')\n",
        "        continue\n",
        "    except OSError as e:\n",
        "        print(f'Failed to load {download_url} to path {destination_path}')\n",
        "        continue\n",
        "\n",
        "print('Data source import complete.')\n"
      ],
      "metadata": {
        "id": "TgEs4xUgQEpq"
      },
      "cell_type": "code",
      "outputs": [],
      "execution_count": null
    },
    {
      "cell_type": "markdown",
      "source": [
        "# 📸 Image Matching Challenge - 📊 Exploratory Data Analysis\n",
        "\n",
        "Hoş geldiniz! Bu heyecan verici yarışmada, 2D görüntülerden 3D sahneleri oluşturma yeteneğinizi test edeceğiz. Ancak önce bazı önemli bilgilere göz atalım:\n",
        "\n",
        "# 🚂 Eğitim ve Test Veri Kümesi İncelemesi\n",
        "\n",
        "Hoş geldiniz! Bu veri kümesi, eşsiz mekanlarda çekilmiş bir dizi görüntü içerir. Bazı eğitim veri setleri, \"images_full\" adlı bir klasörde ek görüntüler içerebilir. Yayınlanan test klasörü ise eğitimdeki kilise sahnesinin bir alt kümesini içerir ve yalnızca örnek amaçlar için sağlanmıştır. Eğitim verisi genellikle ardışık bir sırayla çekilen ve önemli ölçüde içerik örtüşmesine sahip görüntülerden oluşurken, test seti sınırlı görüntü örtüşmesine ve rastgele bir sıraya sahiptir.\n",
        "\n",
        "## 📁 Eğitim Veri Kümesi Klasörleri:\n",
        "- **images:** Aynı konumun yakınında çekilmiş bir dizi görüntü.\n",
        "- **smf:** Bu görüntü grubu için bir 3D rekonstrüksiyon, bu yarışma ile birlikte paketlenmiş olan 3D hareket yapısından-colmap adlı kütüphane ile açılabilir.\n",
        "- **LICENSE.txt:** Bu veri kümesinin lisansı.\n",
        "\n",
        "## 📄 Eğitim Etiketleri CSV Dosyası (`train_labels.csv`):\n",
        "### 1️⃣ Eğitim Etiketleri İncelemesi:\n",
        "- **dataset:** Veri kümesi için benzersiz bir tanımlayıcı.\n",
        "- **scene:** Sahne için benzersiz bir tanımlayıcı.\n",
        "- **image_path:** Dosya adı ve yolu dahil görüntü dosya adı.\n",
        "- **rotation_matrix:** İlk hedef sütunu. Satır majörü kurallarına göre düzleştirilmiş, noktalı virgül ile ayrılmış değerler içeren bir 3x3 matris vektörü.\n",
        "- **translation_vector:** İkinci hedef sütunu. Noktalı virgül ile ayrılmış değerlere sahip 3 boyutlu bir vektör.\n",
        "\n",
        "## **Hedefler:**\n",
        "1. **Hassas 3D Haritalar Oluşturma:** Farklı senaryo ve ortamlardan gelen görüntü setlerinden doğru mekansal temsiller oluşturmak için bir model geliştirmek.\n",
        "2. **Yapıdan Hareketle (SfM):** Çeşitli görüntülerin bir koleksiyonundan bir ortamın 3D modelini yeniden oluşturma süreci.\n",
        "3. **Çeşitli Görüntü Kaynaklarını Keşfetme:** Dronlar 🤖, yoğun ormanlar 🌲 ve gece vakti 🌙 gibi gerçekçi ve uygulanabilir senaryolardan görüntülerle çalışma.\n",
        "\n",
        "Organizatörler, bu yarışma için farklı zorluklar içeren 6 kategori belirlediler:\n",
        "1. 🏛️ **Foto Turizmi ve Tarihi Koruma:** Farklı bakış açıları, sensör tipleri, günün/zamanın saati ve örtüler. Antik tarihi siteler eşsiz zorluklar ekler.\n",
        "2. ☀️ **Gece ve Gündüz ve Zamansal Değişimler:** Gündüz ve gece fotoğraflarının birleşimi, kötü aydınlatma veya aylar/yıllar arasında farklı hava koşullarında çekilmiş fotoğraflar.\n",
        "3. ✈️ **Hava ve Karışık Hava-Yer:** Dronlardan gelen görüntüler, rastgele düzlem dışı dönüşler, benzer görüntülerle eşleştirilmiş ve ayrıca yerden çekilmiş görüntüler.\n",
        "4. ♻️ **Tekrarlanan Yapılar:** Simetrik nesneler, perspektifi ayırt etmek için ayrıntılara ihtiyaç duyar.\n",
        "5. 🌲 **Doğal Ortamlar:** Ağaçlar ve bitki örtüsü gibi düzensiz yapılar.\n",
        "6. 🪞 **Şeffaflıklar ve Yansımalar:** Cam eşyalar gibi doku eksikliği ve farklı bir dizi sorun oluşturan yansımalar ve yansımalar.\n",
        "\n",
        "Hazır mısınız? Görüntüleri eşleştirmek için hazırlanın ve 3D dünyayı yeniden keşfedin! 🚀\n"
      ],
      "metadata": {
        "id": "QS29lpK7QEps"
      }
    },
    {
      "cell_type": "markdown",
      "source": [
        "# Install & Import dependencies 📦🔍"
      ],
      "metadata": {
        "id": "rwqmQBmpQEpu"
      }
    },
    {
      "cell_type": "code",
      "source": [
        "!pip install -q mediapy"
      ],
      "metadata": {
        "execution": {
          "iopub.status.busy": "2024-03-28T17:48:27.615767Z",
          "iopub.execute_input": "2024-03-28T17:48:27.61629Z",
          "iopub.status.idle": "2024-03-28T17:48:43.475746Z",
          "shell.execute_reply.started": "2024-03-28T17:48:27.616254Z",
          "shell.execute_reply": "2024-03-28T17:48:43.474133Z"
        },
        "trusted": true,
        "id": "N17vsbWtQEpv"
      },
      "execution_count": null,
      "outputs": []
    },
    {
      "cell_type": "code",
      "source": [
        "%cd /kaggle/working/\n",
        "!rm -rf /kaggle/working/Hierarchical-Localization\n",
        "!git clone --quiet --recursive https://github.com/cvg/Hierarchical-Localization/\n",
        "%cd /kaggle/working/Hierarchical-Localization\n",
        "!pip install -e .\n",
        "\n",
        "from hloc import extract_features, match_features, reconstruction, visualization, pairs_from_exhaustive\n",
        "from hloc.visualization import plot_images, read_image\n",
        "from hloc.utils import viz_3d\n",
        "\n",
        "%cd /kaggle/working/"
      ],
      "metadata": {
        "execution": {
          "iopub.status.busy": "2024-03-28T17:48:43.480415Z",
          "iopub.execute_input": "2024-03-28T17:48:43.480995Z",
          "iopub.status.idle": "2024-03-28T17:49:36.196799Z",
          "shell.execute_reply.started": "2024-03-28T17:48:43.480944Z",
          "shell.execute_reply": "2024-03-28T17:49:36.194533Z"
        },
        "trusted": true,
        "id": "0o-vfQkYQEpv"
      },
      "execution_count": null,
      "outputs": []
    },
    {
      "cell_type": "code",
      "source": [
        "from pathlib import Path\n",
        "\n",
        "import cv2\n",
        "import mediapy\n",
        "import pandas as pd\n",
        "import plotly.express as px\n",
        "import pycolmap"
      ],
      "metadata": {
        "execution": {
          "iopub.status.busy": "2024-03-28T17:49:36.200038Z",
          "iopub.execute_input": "2024-03-28T17:49:36.200785Z",
          "iopub.status.idle": "2024-03-28T17:49:36.207833Z",
          "shell.execute_reply.started": "2024-03-28T17:49:36.200714Z",
          "shell.execute_reply": "2024-03-28T17:49:36.206509Z"
        },
        "trusted": true,
        "id": "X19BYekRQEpw"
      },
      "execution_count": null,
      "outputs": []
    },
    {
      "cell_type": "markdown",
      "source": [
        "# 📊 Advanced Dataset Exploration with Emojis 📈"
      ],
      "metadata": {
        "id": "o85NFg1SQEpx"
      }
    },
    {
      "cell_type": "code",
      "source": [
        "# Path to the train_labels.csv file\n",
        "train_labels_path = \"/kaggle/input/image-matching-challenge-2024/train/train_labels.csv\""
      ],
      "metadata": {
        "execution": {
          "iopub.status.busy": "2024-03-28T17:49:36.210081Z",
          "iopub.execute_input": "2024-03-28T17:49:36.210562Z",
          "iopub.status.idle": "2024-03-28T17:49:36.229565Z",
          "shell.execute_reply.started": "2024-03-28T17:49:36.210519Z",
          "shell.execute_reply": "2024-03-28T17:49:36.228565Z"
        },
        "trusted": true,
        "id": "CHGfOOIHQEpy"
      },
      "execution_count": null,
      "outputs": []
    },
    {
      "cell_type": "code",
      "source": [
        "# Load the CSV file into a DataFrame\n",
        "train_labels_df = pd.read_csv(train_labels_path)"
      ],
      "metadata": {
        "execution": {
          "iopub.status.busy": "2024-03-28T17:49:36.234355Z",
          "iopub.execute_input": "2024-03-28T17:49:36.23489Z",
          "iopub.status.idle": "2024-03-28T17:49:36.268513Z",
          "shell.execute_reply.started": "2024-03-28T17:49:36.234853Z",
          "shell.execute_reply": "2024-03-28T17:49:36.266987Z"
        },
        "trusted": true,
        "id": "wQqNCFWOQEpy"
      },
      "execution_count": null,
      "outputs": []
    },
    {
      "cell_type": "code",
      "source": [
        "# Display the first few rows of the DataFrame\n",
        "print(\"First few rows of train_labels.csv:\")\n",
        "print(train_labels_df.head())"
      ],
      "metadata": {
        "execution": {
          "iopub.status.busy": "2024-03-28T17:49:36.270394Z",
          "iopub.execute_input": "2024-03-28T17:49:36.270918Z",
          "iopub.status.idle": "2024-03-28T17:49:36.284042Z",
          "shell.execute_reply.started": "2024-03-28T17:49:36.270876Z",
          "shell.execute_reply": "2024-03-28T17:49:36.282759Z"
        },
        "trusted": true,
        "id": "UQTju1XFQEpy"
      },
      "execution_count": null,
      "outputs": []
    },
    {
      "cell_type": "markdown",
      "source": [
        "# 2️⃣ Exploring the Interplay Between Datasets and Scenes 🔄📊"
      ],
      "metadata": {
        "id": "eTOkTcImQEpy"
      }
    },
    {
      "cell_type": "code",
      "source": [
        "# Calculate the number of unique scenes within each dataset\n",
        "scenes_per_dataset = train_labels_df.groupby('dataset')['scene'].nunique()"
      ],
      "metadata": {
        "execution": {
          "iopub.status.busy": "2024-03-28T17:49:36.286022Z",
          "iopub.execute_input": "2024-03-28T17:49:36.286439Z",
          "iopub.status.idle": "2024-03-28T17:49:36.298574Z",
          "shell.execute_reply.started": "2024-03-28T17:49:36.286408Z",
          "shell.execute_reply": "2024-03-28T17:49:36.297094Z"
        },
        "trusted": true,
        "id": "yg6upyuqQEpz"
      },
      "execution_count": null,
      "outputs": []
    },
    {
      "cell_type": "code",
      "source": [
        "train_labels_df.groupby(\"dataset\")[\"scene\"].nunique()"
      ],
      "metadata": {
        "execution": {
          "iopub.status.busy": "2024-03-28T17:49:36.300851Z",
          "iopub.execute_input": "2024-03-28T17:49:36.301313Z",
          "iopub.status.idle": "2024-03-28T17:49:36.319483Z",
          "shell.execute_reply.started": "2024-03-28T17:49:36.301272Z",
          "shell.execute_reply": "2024-03-28T17:49:36.317885Z"
        },
        "trusted": true,
        "id": "UZCrlVCiQEpz"
      },
      "execution_count": null,
      "outputs": []
    },
    {
      "cell_type": "code",
      "source": [
        "# Import necessary library for plotting\n",
        "import matplotlib.pyplot as plt\n",
        "\n",
        "# Define a custom color palette\n",
        "colors = plt.cm.tab10.colors\n",
        "\n",
        "# Visualize the relationship between datasets and scenes\n",
        "plt.figure(figsize=(12, 8))\n",
        "scenes_per_dataset.sort_values(ascending=False).plot(kind='bar', color=colors)\n",
        "plt.title('Number of Unique Scenes per Dataset', fontsize=16, fontweight='bold')\n",
        "plt.xlabel('Dataset', fontsize=14)\n",
        "plt.ylabel('Number of Unique Scenes', fontsize=14)\n",
        "plt.xticks(rotation=45, ha='right', fontsize=12)\n",
        "plt.yticks(fontsize=12)\n",
        "plt.grid(axis='y', linestyle='--', alpha=0.7)\n",
        "plt.tight_layout()\n",
        "plt.show()"
      ],
      "metadata": {
        "execution": {
          "iopub.status.busy": "2024-03-28T17:49:36.321473Z",
          "iopub.execute_input": "2024-03-28T17:49:36.322699Z",
          "iopub.status.idle": "2024-03-28T17:49:36.954612Z",
          "shell.execute_reply.started": "2024-03-28T17:49:36.322627Z",
          "shell.execute_reply": "2024-03-28T17:49:36.951742Z"
        },
        "trusted": true,
        "id": "64vW-rPWQEpz"
      },
      "execution_count": null,
      "outputs": []
    },
    {
      "cell_type": "markdown",
      "source": [
        "# 🔍📊 Delving into Train Dataset Categories 🌟"
      ],
      "metadata": {
        "id": "hlj-2RTaQEpz"
      }
    },
    {
      "cell_type": "code",
      "source": [
        "train_categories_df = pd.read_csv(\"/kaggle/input/image-matching-challenge-2024/train/categories.csv\")\n",
        "train_categories_df"
      ],
      "metadata": {
        "execution": {
          "iopub.status.busy": "2024-03-28T17:49:36.957114Z",
          "iopub.execute_input": "2024-03-28T17:49:36.958125Z",
          "iopub.status.idle": "2024-03-28T17:49:36.978462Z",
          "shell.execute_reply.started": "2024-03-28T17:49:36.958083Z",
          "shell.execute_reply": "2024-03-28T17:49:36.976998Z"
        },
        "trusted": true,
        "id": "GZwNjyq5QEpz"
      },
      "execution_count": null,
      "outputs": []
    },
    {
      "cell_type": "code",
      "source": [
        "# Check for missing or corrupted data\n",
        "train_categories_df.isnull().sum()"
      ],
      "metadata": {
        "execution": {
          "iopub.status.busy": "2024-03-28T17:49:36.980989Z",
          "iopub.execute_input": "2024-03-28T17:49:36.981435Z",
          "iopub.status.idle": "2024-03-28T17:49:36.99279Z",
          "shell.execute_reply.started": "2024-03-28T17:49:36.981401Z",
          "shell.execute_reply": "2024-03-28T17:49:36.991058Z"
        },
        "trusted": true,
        "id": "lG056mHAQEpz"
      },
      "execution_count": null,
      "outputs": []
    },
    {
      "cell_type": "code",
      "source": [
        "# Handle missing data appropriately\n",
        "train_categories_df.dropna(inplace=True)  # We can directly drop the missing values"
      ],
      "metadata": {
        "execution": {
          "iopub.status.busy": "2024-03-28T17:49:36.9973Z",
          "iopub.execute_input": "2024-03-28T17:49:36.997782Z",
          "iopub.status.idle": "2024-03-28T17:49:37.011018Z",
          "shell.execute_reply.started": "2024-03-28T17:49:36.997747Z",
          "shell.execute_reply": "2024-03-28T17:49:37.009389Z"
        },
        "trusted": true,
        "id": "ZJRMAkJcQEpz"
      },
      "execution_count": null,
      "outputs": []
    },
    {
      "cell_type": "code",
      "source": [
        "# Check the first few observations in the dataset\n",
        "print(train_categories_df.head())"
      ],
      "metadata": {
        "execution": {
          "iopub.status.busy": "2024-03-28T17:49:37.012587Z",
          "iopub.execute_input": "2024-03-28T17:49:37.013109Z",
          "iopub.status.idle": "2024-03-28T17:49:37.028147Z",
          "shell.execute_reply.started": "2024-03-28T17:49:37.013064Z",
          "shell.execute_reply": "2024-03-28T17:49:37.026239Z"
        },
        "trusted": true,
        "id": "gxQwqKDXQEpz"
      },
      "execution_count": null,
      "outputs": []
    },
    {
      "cell_type": "code",
      "source": [
        "# Split the categories column by semicolon and explode it into separate rows\n",
        "train_categories_df['category'] = train_categories_df['categories'].str.split(';')\n",
        "train_categories_df = train_categories_df.explode('category')\n",
        "\n",
        "# Drop the original categories column since it's no longer needed\n",
        "train_categories_df.drop(columns=['categories'], inplace=True)\n",
        "\n",
        "# Display the updated DataFrame\n",
        "train_categories_df.head()"
      ],
      "metadata": {
        "execution": {
          "iopub.status.busy": "2024-03-28T17:49:37.032859Z",
          "iopub.execute_input": "2024-03-28T17:49:37.034146Z",
          "iopub.status.idle": "2024-03-28T17:49:37.055152Z",
          "shell.execute_reply.started": "2024-03-28T17:49:37.034102Z",
          "shell.execute_reply": "2024-03-28T17:49:37.053702Z"
        },
        "trusted": true,
        "id": "NmZvYyWiQEpz"
      },
      "execution_count": null,
      "outputs": []
    },
    {
      "cell_type": "code",
      "source": [
        "import seaborn as sns\n",
        "\n",
        "# Determine the number of categories\n",
        "num_categories = len(train_categories_df['category'].unique())\n",
        "\n",
        "# Visualize the relationship between scenes and categories\n",
        "plt.figure(figsize=(14, 10))\n",
        "sns.countplot(y='category', hue='scene', data=train_categories_df, palette='viridis')\n",
        "plt.title('Relationship Between Scenes and Categories', fontsize=16)\n",
        "plt.xlabel('Count', fontsize=14)\n",
        "plt.ylabel('Category', fontsize=14)\n",
        "plt.xticks(fontsize=12)\n",
        "plt.yticks(fontsize=12)\n",
        "plt.legend(title='Scene', fontsize=12, title_fontsize=12)\n",
        "plt.show()"
      ],
      "metadata": {
        "execution": {
          "iopub.status.busy": "2024-03-28T17:49:37.056942Z",
          "iopub.execute_input": "2024-03-28T17:49:37.057433Z",
          "iopub.status.idle": "2024-03-28T17:49:37.772583Z",
          "shell.execute_reply.started": "2024-03-28T17:49:37.057391Z",
          "shell.execute_reply": "2024-03-28T17:49:37.771029Z"
        },
        "trusted": true,
        "id": "JE6den8nQEpz"
      },
      "execution_count": null,
      "outputs": []
    },
    {
      "cell_type": "markdown",
      "source": [
        "# 📊📈 Visualizing Train Dataset Categories 🎨\n"
      ],
      "metadata": {
        "id": "eXrCF6RvQEpz"
      }
    },
    {
      "cell_type": "code",
      "source": [
        "# Count the occurrences of each category\n",
        "category_counts = train_categories_df['category'].value_counts()\n",
        "\n",
        "# Create a bar plot\n",
        "plt.figure(figsize=(12, 8))\n",
        "sns.barplot(x=category_counts.index, y=category_counts.values, palette='viridis')\n",
        "plt.title('Distribution of Categories in the Train Dataset', fontsize=16)\n",
        "plt.xlabel('Category', fontsize=14)\n",
        "plt.ylabel('Count', fontsize=14)\n",
        "plt.xticks(rotation=45, ha='right', fontsize=12)\n",
        "plt.yticks(fontsize=12)\n",
        "plt.tight_layout()\n",
        "plt.show()"
      ],
      "metadata": {
        "execution": {
          "iopub.status.busy": "2024-03-28T17:49:37.774575Z",
          "iopub.execute_input": "2024-03-28T17:49:37.775178Z",
          "iopub.status.idle": "2024-03-28T17:49:38.909513Z",
          "shell.execute_reply.started": "2024-03-28T17:49:37.775145Z",
          "shell.execute_reply": "2024-03-28T17:49:38.907639Z"
        },
        "trusted": true,
        "id": "cyqgzh3HQEpz"
      },
      "execution_count": null,
      "outputs": []
    },
    {
      "cell_type": "code",
      "source": [
        "import matplotlib.font_manager as fm\n",
        "\n",
        "# Create a pivot table to count the occurrences of each category in each scene\n",
        "scene_category_counts = train_categories_df.pivot_table(index='scene', columns='category', aggfunc='size', fill_value=0)\n",
        "\n",
        "# Define a custom color palette\n",
        "custom_palette = sns.light_palette(\"seagreen\", as_cmap=True)\n",
        "\n",
        "# Set custom font styles\n",
        "title_font = {'fontname': 'Times New Roman', 'fontsize': 16, 'fontweight': 'bold'}\n",
        "label_font = {'fontname': 'Arial', 'fontsize': 14}\n",
        "\n",
        "# Set the figure style\n",
        "sns.set_style(\"white\")\n",
        "\n",
        "# Plot the heatmap with improved aesthetics\n",
        "plt.figure(figsize=(14, 10))\n",
        "sns.heatmap(scene_category_counts, cmap=custom_palette, cbar=True, linewidths=0.5, linecolor='gray', annot=True, fmt='d', annot_kws={'fontsize': 10})\n",
        "plt.title('Relationship Between Scenes and Categories', **title_font)\n",
        "plt.xlabel('Category', **label_font)\n",
        "plt.ylabel('Scene', **label_font)\n",
        "plt.xticks(rotation=45, ha='right', **label_font)\n",
        "plt.yticks(**label_font)\n",
        "plt.gca().patch.set_facecolor('lightgray')  # Set background color\n",
        "plt.tight_layout()\n",
        "plt.show()"
      ],
      "metadata": {
        "execution": {
          "iopub.status.busy": "2024-03-28T17:49:38.911357Z",
          "iopub.execute_input": "2024-03-28T17:49:38.911766Z",
          "iopub.status.idle": "2024-03-28T17:49:39.76647Z",
          "shell.execute_reply.started": "2024-03-28T17:49:38.911734Z",
          "shell.execute_reply": "2024-03-28T17:49:39.76487Z"
        },
        "trusted": true,
        "id": "rRj6eedCQEpz"
      },
      "execution_count": null,
      "outputs": []
    },
    {
      "cell_type": "markdown",
      "source": [
        "## Dive into each dataset! 🚀"
      ],
      "metadata": {
        "id": "8mPLECYmQEpz"
      }
    },
    {
      "cell_type": "code",
      "source": [
        "def explore(split: str, dataset: str, plot_image_limit: int = 12) -> None:\n",
        "    # Define the path to the dataset\n",
        "    path = Path(\"/kaggle/input/image-matching-challenge-2024\") / split / dataset\n",
        "    images_path = path / \"images\"\n",
        "    smf_path = path / \"smf\"\n",
        "\n",
        "    # Load and display images\n",
        "    images = [cv2.cvtColor(cv2.imread(str(p)), cv2.COLOR_BGR2RGB) for p in list(images_path.glob(\"*\"))[:plot_image_limit]]\n",
        "    mediapy.show_images(images, height=300, columns=3)\n",
        "\n",
        "    # If not the test split, visualize 3D reconstruction\n",
        "    if split != \"test\":\n",
        "        rec_gt = pycolmap.Reconstruction(smf_path)\n",
        "        fig = viz_3d.init_figure()\n",
        "        viz_3d.plot_reconstruction(fig, rec_gt, cameras=False, color='rgba(227,168,30,0.5)', name=\"Ground Truth\", cs=5)\n",
        "        fig.show()"
      ],
      "metadata": {
        "execution": {
          "iopub.status.busy": "2024-03-28T17:49:39.768475Z",
          "iopub.execute_input": "2024-03-28T17:49:39.768965Z",
          "iopub.status.idle": "2024-03-28T17:49:39.780409Z",
          "shell.execute_reply.started": "2024-03-28T17:49:39.768924Z",
          "shell.execute_reply": "2024-03-28T17:49:39.77884Z"
        },
        "trusted": true,
        "id": "Qpama2v5QEp0"
      },
      "execution_count": null,
      "outputs": []
    },
    {
      "cell_type": "code",
      "source": [
        "explore(split=\"train\", dataset=\"church\")"
      ],
      "metadata": {
        "execution": {
          "iopub.status.busy": "2024-03-28T17:49:39.783489Z",
          "iopub.execute_input": "2024-03-28T17:49:39.784378Z",
          "iopub.status.idle": "2024-03-28T17:49:52.656022Z",
          "shell.execute_reply.started": "2024-03-28T17:49:39.78432Z",
          "shell.execute_reply": "2024-03-28T17:49:52.648828Z"
        },
        "trusted": true,
        "id": "7TpYGIk9QEp0"
      },
      "execution_count": null,
      "outputs": []
    },
    {
      "cell_type": "code",
      "source": [
        "explore(split=\"test\", dataset=\"church\")"
      ],
      "metadata": {
        "execution": {
          "iopub.status.busy": "2024-03-28T17:49:52.659797Z",
          "iopub.execute_input": "2024-03-28T17:49:52.660312Z",
          "iopub.status.idle": "2024-03-28T17:49:53.699119Z",
          "shell.execute_reply.started": "2024-03-28T17:49:52.660275Z",
          "shell.execute_reply": "2024-03-28T17:49:53.697692Z"
        },
        "trusted": true,
        "id": "_fZuvobXQEp0"
      },
      "execution_count": null,
      "outputs": []
    },
    {
      "cell_type": "code",
      "source": [
        "explore(split=\"train\", dataset=\"dioscuri\")"
      ],
      "metadata": {
        "execution": {
          "iopub.status.busy": "2024-03-28T17:49:53.700749Z",
          "iopub.execute_input": "2024-03-28T17:49:53.701933Z",
          "iopub.status.idle": "2024-03-28T17:49:58.722927Z",
          "shell.execute_reply.started": "2024-03-28T17:49:53.701889Z",
          "shell.execute_reply": "2024-03-28T17:49:58.721443Z"
        },
        "trusted": true,
        "id": "47ry09kPQEp0"
      },
      "execution_count": null,
      "outputs": []
    },
    {
      "cell_type": "code",
      "source": [
        "explore(split=\"train\", dataset=\"lizard\")"
      ],
      "metadata": {
        "execution": {
          "iopub.status.busy": "2024-03-28T17:49:58.724821Z",
          "iopub.execute_input": "2024-03-28T17:49:58.725199Z",
          "iopub.status.idle": "2024-03-28T17:50:35.148547Z",
          "shell.execute_reply.started": "2024-03-28T17:49:58.725168Z",
          "shell.execute_reply": "2024-03-28T17:50:35.145596Z"
        },
        "trusted": true,
        "id": "OUKUDGovQEp0"
      },
      "execution_count": null,
      "outputs": []
    },
    {
      "cell_type": "code",
      "source": [
        "explore(split=\"test\", dataset=\"lizard\")"
      ],
      "metadata": {
        "execution": {
          "iopub.status.busy": "2024-03-28T17:50:35.152333Z",
          "iopub.execute_input": "2024-03-28T17:50:35.153516Z",
          "iopub.status.idle": "2024-03-28T17:50:36.060612Z",
          "shell.execute_reply.started": "2024-03-28T17:50:35.153445Z",
          "shell.execute_reply": "2024-03-28T17:50:36.058786Z"
        },
        "trusted": true,
        "id": "C9zzIbtlQEp0"
      },
      "execution_count": null,
      "outputs": []
    },
    {
      "cell_type": "code",
      "source": [
        "explore(split=\"train\", dataset=\"pond\")"
      ],
      "metadata": {
        "execution": {
          "iopub.status.busy": "2024-03-28T17:50:36.062932Z",
          "iopub.execute_input": "2024-03-28T17:50:36.06332Z"
        },
        "trusted": true,
        "id": "cSiNR3GqQEp0"
      },
      "execution_count": null,
      "outputs": []
    },
    {
      "cell_type": "code",
      "source": [
        "explore(split=\"train\", dataset=\"transp_obj_glass_cup\")"
      ],
      "metadata": {
        "trusted": true,
        "id": "nq5ODnLXQEp0"
      },
      "execution_count": null,
      "outputs": []
    },
    {
      "cell_type": "code",
      "source": [
        "explore(split=\"train\", dataset=\"transp_obj_glass_cylinder\")"
      ],
      "metadata": {
        "trusted": true,
        "id": "vALLBVomQEp0"
      },
      "execution_count": null,
      "outputs": []
    }
  ]
}